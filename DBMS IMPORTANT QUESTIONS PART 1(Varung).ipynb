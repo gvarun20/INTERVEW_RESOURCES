{
 "cells": [
  {
   "cell_type": "markdown",
   "id": "6fa10075",
   "metadata": {},
   "source": [
    "# 1)What is DBMS?"
   ]
  },
  {
   "cell_type": "markdown",
   "id": "0ead2c83",
   "metadata": {},
   "source": [
    "A Database Management System or DBMS is a collection of programs that enables users to store and retrieve data from a database securely. With the help of a DBMS, you can perform a number of operations such as creating a new database, inserting and deleting data, updating the data,"
   ]
  },
  {
   "cell_type": "markdown",
   "id": "c50845c8",
   "metadata": {},
   "source": [
    "# 2) What do you mean by normalization in DBMS?"
   ]
  },
  {
   "cell_type": "markdown",
   "id": "2ca71a51",
   "metadata": {},
   "source": [
    "Normalization is the process of minimizing redundancies in a database. It also helps to overcome insert, delete and update anomalies. "
   ]
  },
  {
   "cell_type": "markdown",
   "id": "f3023ffa",
   "metadata": {},
   "source": [
    "# 3)What is a database language? "
   ]
  },
  {
   "cell_type": "markdown",
   "id": "8473c4d9",
   "metadata": {},
   "source": [
    "1.Data Definition Language (DDL) - These commands are used to update the data.\n",
    "2.Data Manipulation Language (DML) - These commands are used to manipulate the updated data.\n",
    "3.Data Control Language (DCL) - These commands are used for providing and revoking user access to a database.\n",
    "4.Transaction Control Language (TCL) - These commands are used to manage all the transactions in a database."
   ]
  },
  {
   "cell_type": "markdown",
   "id": "f4511ca6",
   "metadata": {},
   "source": [
    "# 4)Explain the ACID properties of a DBMS."
   ]
  },
  {
   "cell_type": "markdown",
   "id": "b233db78",
   "metadata": {},
   "source": [
    "ACID properties are the basic rules of a DBMS which needs to be followed in order to preserve data integrity. They are:\n",
    "\n",
    "Atomicity - It is also known as the “all or nothing” rule, which implies that everything considered as one unit is either run to completion or not executed at all.\n",
    "\n",
    "Consistency - This property implies that the data in the database remains consistent before and after every transaction.\n",
    "\n",
    "Isolation - This property states that different numbers of transactions can be executed concurrently.\n",
    "\n",
    "Durability - This property ensures that every transaction is stored in the non-volatile memory after the transaction is completed."
   ]
  },
  {
   "cell_type": "markdown",
   "id": "fac5aa0a",
   "metadata": {},
   "source": [
    "# 5)What is the main difference between DELETE and TRUNCATE command?"
   ]
  },
  {
   "cell_type": "markdown",
   "id": "1f6b3877",
   "metadata": {},
   "source": [
    "DELETE command is used to remove the rows in a table based on the condition set by the WHERE clause. The rows deleted can be rolled back.\n",
    "\n",
    "TRUNCATE command is used to remove all the rows in a table without any conditions. The rows cannot be rolled back"
   ]
  },
  {
   "cell_type": "markdown",
   "id": "69b313e5",
   "metadata": {},
   "source": [
    "# 6)Explain the different normal forms for normalization."
   ]
  },
  {
   "cell_type": "markdown",
   "id": "7c17466d",
   "metadata": {},
   "source": [
    "First Normal Form(1NF) - A table is said to be in 1NF if it holds only atomic values. \n",
    "Second Normal Form(2NF) - A table is said to be in 2NF if it is in 1NF and non-prime attributes are not dependent on any candidate key.\n",
    "Third Normal Form(3NF) - A table is said to be in 3NF if it is in 2NF and non-prime attributes are not dependent on any super key.\n",
    "Boyce & Codd Normal Form(BCNF) - A table is said to be in BCNF if it is in 3NF and for every functional dependency A->B, B is the super key of the table."
   ]
  },
  {
   "cell_type": "markdown",
   "id": "4bc3aef1",
   "metadata": {},
   "source": [
    "# 7) Define a relationship in DBMS and its various types."
   ]
  },
  {
   "cell_type": "markdown",
   "id": "7a8f8860",
   "metadata": {},
   "source": [
    "There are three main types of relationships in DBMS:\n",
    "\n",
    "One to one - A single record in one table is related to a single record in another table and vice versa.\n",
    "One to many / Many to one - A single record of one table is related to many records of other tables and vice versa.\n",
    "Many to many - Multiple records of one table are related to multiple records of another table."
   ]
  },
  {
   "cell_type": "markdown",
   "id": "635369e7",
   "metadata": {},
   "source": [
    "# 8)Describe the different types of keys in a DBMS?"
   ]
  },
  {
   "cell_type": "markdown",
   "id": "eb7f65ad",
   "metadata": {},
   "source": [
    "Primary key - It is an attribute used to uniquely identify each record in a table. A primary key is compulsory for every table. \n",
    "\n",
    "Candidate key - It is a set of attributes used to uniquely identify a table. \n",
    "\n",
    "Super key - It is a set of attributes used to uniquely identify a tuple. \n",
    "\n",
    "Foreign key - It is a field or a collection of fields used to link one table to a primary key from another table"
   ]
  }
 ],
 "metadata": {
  "kernelspec": {
   "display_name": "Python 3 (ipykernel)",
   "language": "python",
   "name": "python3"
  },
  "language_info": {
   "codemirror_mode": {
    "name": "ipython",
    "version": 3
   },
   "file_extension": ".py",
   "mimetype": "text/x-python",
   "name": "python",
   "nbconvert_exporter": "python",
   "pygments_lexer": "ipython3",
   "version": "3.10.9"
  }
 },
 "nbformat": 4,
 "nbformat_minor": 5
}
