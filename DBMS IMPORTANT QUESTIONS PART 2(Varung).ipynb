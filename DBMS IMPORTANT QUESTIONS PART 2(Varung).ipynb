{
 "cells": [
  {
   "cell_type": "markdown",
   "id": "05cfcb20",
   "metadata": {},
   "source": [
    "# 1)What is the difference between SQL and MySQL?"
   ]
  },
  {
   "cell_type": "markdown",
   "id": "309b5f46",
   "metadata": {},
   "source": [
    "SQL is a standardized programming language used for managing and manipulating relational databases.SQL is not a specific database management system (DBMS) but rather a language that can be used with various database systems.\n",
    "\n",
    "\n",
    "MySQL, on the other hand, is a specific relational database management system (RDBMS) that uses SQL as its query language.MySQL supports the SQL language, allowing users to interact with the database using SQL commands."
   ]
  },
  {
   "cell_type": "markdown",
   "id": "e89a4fa0",
   "metadata": {},
   "source": [
    "# 2)What do you understand about BCNF?"
   ]
  },
  {
   "cell_type": "markdown",
   "id": "ec781561",
   "metadata": {},
   "source": [
    "Boyce-Codd Normal Form (BCNF) is an advanced level of normalization for relational database schemas.BCNF refers to the Boyce Codd Normal Form, an advanced version of the third normal form that does not feature overlapping candidate keys.The goal is to minimize update anomalies and ensure that each relation is structured to adhere to the principles of dependency and key determination."
   ]
  },
  {
   "cell_type": "markdown",
   "id": "499eff24",
   "metadata": {},
   "source": [
    "# 3)What do you understand about Joins? Mention the types of join"
   ]
  },
  {
   "cell_type": "markdown",
   "id": "035534e3",
   "metadata": {},
   "source": [
    "Inner Join\n",
    "Outer Join and this further categorized into two types - right outer join and left outer join\n",
    "Natural Join\n",
    "Cross Join"
   ]
  },
  {
   "cell_type": "markdown",
   "id": "95f56036",
   "metadata": {},
   "source": [
    "# 4)Explain about trigger in SQL"
   ]
  },
  {
   "cell_type": "markdown",
   "id": "fa0b5a8c",
   "metadata": {},
   "source": [
    "In a database, a trigger is like a predefined set of instructions that automatically kicks in (or gets \"triggered\") in response to specific actions, usually related to data changes. These actions could be inserting new data, updating existing data, or deleting data.\n",
    "\n",
    "There are two main types of triggers:\n",
    "\n",
    "DML Triggers:These respond to actions that manipulate data, like inserting, updating, or deleting records in a table.\n",
    "\n",
    "DDL Triggers:These respond to changes in the structure of the database, like creating, altering, or dropping tables."
   ]
  },
  {
   "cell_type": "markdown",
   "id": "0f468d31",
   "metadata": {},
   "source": [
    "# 5)what is entity & attribute in DBMS"
   ]
  },
  {
   "cell_type": "markdown",
   "id": "f2cff5d5",
   "metadata": {},
   "source": [
    "In a database, an entity represents a unique object or concept that we want to store and manage information about. Each entity typically corresponds to a table in the database. \n",
    "For example: In a \"Customer\" table, each row represents an individual customer entity.\n",
    "             In a \"Product\" table, each row represents a unique product entity.\n",
    "\n",
    "\n",
    "Attribute: An attribute is a property or characteristic of an entity. It describes various aspects or features of the entity. Attributes are the columns in a table.\n",
    "Examples:  For a \"Customer\" entity, attributes could include \"CustomerID,\" \"Name,\" \"Email,\" and \"Address.\"\n",
    "           For a \"Product\" entity, attributes might include \"ProductID,\" \"Name,\" \"Price,\" and \"Manufacturer.\"\n",
    "\n"
   ]
  }
 ],
 "metadata": {
  "kernelspec": {
   "display_name": "Python 3 (ipykernel)",
   "language": "python",
   "name": "python3"
  },
  "language_info": {
   "codemirror_mode": {
    "name": "ipython",
    "version": 3
   },
   "file_extension": ".py",
   "mimetype": "text/x-python",
   "name": "python",
   "nbconvert_exporter": "python",
   "pygments_lexer": "ipython3",
   "version": "3.10.9"
  }
 },
 "nbformat": 4,
 "nbformat_minor": 5
}
