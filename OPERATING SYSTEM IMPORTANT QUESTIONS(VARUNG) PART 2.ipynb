{
 "cells": [
  {
   "cell_type": "markdown",
   "id": "6d79ca5c",
   "metadata": {},
   "source": [
    "# 1)What is a boot-strap program? "
   ]
  },
  {
   "cell_type": "markdown",
   "id": "a9c74f80",
   "metadata": {},
   "source": [
    "bootstrapping is a set of instructions or a program that initializes the operating system on a computer                         \n",
    "\n",
    "STEPS: followed by bootstrap\n",
    "Power-on or Reset \n",
    "BIOS/UEFI Initialization    \n",
    "Boot Loader    \n",
    "Kernel Initialization          \n",
    "User Space Initialization      "
   ]
  },
  {
   "cell_type": "markdown",
   "id": "a27f0ac4",
   "metadata": {},
   "source": [
    "# 2)What is readers-writers problem?"
   ]
  },
  {
   "cell_type": "markdown",
   "id": "cfe3e75e",
   "metadata": {},
   "source": [
    "the readers-writers problem is like managing access to a shared library where multiple people want to either read or write books.\n",
    "\n",
    "Readers: Multiple people can read books simultaneously without a problem.\n",
    "\n",
    "Writer: Only one person can write in the library at a time, and when someone is writing, others (both readers and writers) have to wait."
   ]
  },
  {
   "cell_type": "markdown",
   "id": "62d62008",
   "metadata": {},
   "source": [
    "# 3) What is a deadlock? "
   ]
  },
  {
   "cell_type": "markdown",
   "id": "8c1d67c3",
   "metadata": {},
   "source": [
    " in computing, processes can get stuck in a deadlock because each process is waiting for a resource that another process has, forming a circular dependency. This can freeze the system, and the processes can't make progress. "
   ]
  },
  {
   "cell_type": "markdown",
   "id": "88a6f64b",
   "metadata": {},
   "source": [
    "# 4)What are deadlock prevention techniques? "
   ]
  },
  {
   "cell_type": "markdown",
   "id": "aab55c97",
   "metadata": {},
   "source": [
    "1. Mutual exclusion : Some resources such as read only files shouldn’t be mutually exclusive. They should be sharable. But some resources such as printers must be mutually exclusive. \n",
    "\n",
    "2. Hold and wait : To avoid this condition we have to ensure that if a process is requesting for a resource it should not hold any resources. \n",
    "\n",
    "3. No preemption : If a process is holding some resources and requests another resource that cannot be immediately allocated to it (that is the process must wait), then all the resources currently being held are preempted(released autonomously). \n",
    "\n",
    "4. Circular wait : the way to ensure that this condition never holds is to impose a total ordering of all the resource types, and to require that each process requests resources in an increasing order of enumeration. "
   ]
  },
  {
   "cell_type": "markdown",
   "id": "2b0fd5a4",
   "metadata": {},
   "source": [
    "# 5)What is multi tasking, multi programming, multi threading? "
   ]
  },
  {
   "cell_type": "markdown",
   "id": "04da1f81",
   "metadata": {},
   "source": [
    "Multitasking:The computer can run and manage multiple programs simultaneously, like chatting, playing music, and browsing the internet all together.\n",
    "    \n",
    "Multiprogramming: Instead of waiting for one thing to finish, the computer keeps several programs loaded and switches between them to keep itself busy.\n",
    "    \n",
    "Multithreading: A program is like a big task, and multithreading allows the computer to work on different parts of that task simultaneously, making things faster.  "
   ]
  }
 ],
 "metadata": {
  "kernelspec": {
   "display_name": "Python 3 (ipykernel)",
   "language": "python",
   "name": "python3"
  },
  "language_info": {
   "codemirror_mode": {
    "name": "ipython",
    "version": 3
   },
   "file_extension": ".py",
   "mimetype": "text/x-python",
   "name": "python",
   "nbconvert_exporter": "python",
   "pygments_lexer": "ipython3",
   "version": "3.10.9"
  }
 },
 "nbformat": 4,
 "nbformat_minor": 5
}
