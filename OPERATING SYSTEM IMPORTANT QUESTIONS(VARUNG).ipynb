{
 "cells": [
  {
   "cell_type": "markdown",
   "id": "0254b574",
   "metadata": {},
   "source": [
    "# Operating System Interview Questions"
   ]
  },
  {
   "cell_type": "markdown",
   "id": "a8895006",
   "metadata": {},
   "source": [
    "# 1)What is a Thread?  "
   ]
  },
  {
   "cell_type": "markdown",
   "id": "03f5abdd",
   "metadata": {},
   "source": [
    "In an operating system, a thread is like a small unit of a process.hread as a single stream of instructions or tasks within a program.Threads are often called \"lightweight processes\" because they're not as heavy or resource-intensive as full processes. They share resources with other threads in the same process, like memory space and files."
   ]
  },
  {
   "cell_type": "markdown",
   "id": "f9437d6a",
   "metadata": {},
   "source": [
    "# 2) What is Thrashing? "
   ]
  },
  {
   "cell_type": "markdown",
   "id": "4b3595cd",
   "metadata": {},
   "source": [
    "In computer terms, when your system is thrashing, it's spending too much time swapping data between the fast memory (RAM) and the slower storage (like hard drive). This happens because there's not enough space in RAM to hold all the data needed for running programs. So, the system keeps swapping data in and out, causing a slowdown."
   ]
  },
  {
   "cell_type": "markdown",
   "id": "49b200e6",
   "metadata": {},
   "source": [
    "# 3)Explain the main purpose of an operating system?"
   ]
  },
  {
   "cell_type": "markdown",
   "id": "48a79cfc",
   "metadata": {},
   "source": [
    "The purpose of an operating system is to provide an environment in which a user can execute programs conveniently and efficiently.  An operating system is a software that manages computer hardware. The hardware must provide appropriate mechanisms to ensure the correct operation of the computer system"
   ]
  },
  {
   "cell_type": "markdown",
   "id": "54f06d7f",
   "metadata": {},
   "source": [
    "# 4)What is a kernel?"
   ]
  },
  {
   "cell_type": "markdown",
   "id": "94ec9bb2",
   "metadata": {},
   "source": [
    "Its main job is to make sure that different programs (like games, browsers, or word processors) can run smoothly without interfering with each other The kernel also takes care of the computer's memory, like making sure each program gets the right amount of space to do its job."
   ]
  },
  {
   "cell_type": "markdown",
   "id": "d0602233",
   "metadata": {},
   "source": [
    "# 5)What are the different scheduling algorithms?"
   ]
  },
  {
   "cell_type": "markdown",
   "id": "5cb798cd",
   "metadata": {},
   "source": [
    "First-Come, First-Served (FCFS) Scheduling. \n",
    "Shortest-Job-Next (SJN) Scheduling. \n",
    "Priority Scheduling. \n",
    "Shortest Remaining Time. \n",
    "Round Robin(RR) Scheduling. \n",
    "Multiple-Level Queues Scheduling. "
   ]
  }
 ],
 "metadata": {
  "kernelspec": {
   "display_name": "Python 3 (ipykernel)",
   "language": "python",
   "name": "python3"
  },
  "language_info": {
   "codemirror_mode": {
    "name": "ipython",
    "version": 3
   },
   "file_extension": ".py",
   "mimetype": "text/x-python",
   "name": "python",
   "nbconvert_exporter": "python",
   "pygments_lexer": "ipython3",
   "version": "3.10.9"
  }
 },
 "nbformat": 4,
 "nbformat_minor": 5
}
